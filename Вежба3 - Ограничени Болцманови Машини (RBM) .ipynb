{
 "cells": [
  {
   "cell_type": "code",
   "id": "initial_id",
   "metadata": {
    "collapsed": true,
    "ExecuteTime": {
     "end_time": "2025-02-09T22:24:07.573516Z",
     "start_time": "2025-02-09T22:24:04.774024Z"
    }
   },
   "source": [
    "import tensorflow as tf\n",
    "from tensorflow.keras import datasets, layers\n",
    "import matplotlib.pyplot as plt \n",
    "from keras import Sequential\n",
    "import numpy as np\n",
    "import pandas as pd"
   ],
   "outputs": [],
   "execution_count": 1
  },
  {
   "metadata": {},
   "cell_type": "markdown",
   "source": "Ќе илустрираме пример за користење на Ограничени Болцманови машини за колаборативно филтрирање со цел да се развие систем за препораки на филмови.",
   "id": "a0320e6378fa18f4"
  },
  {
   "metadata": {
    "ExecuteTime": {
     "end_time": "2025-02-09T22:24:29.519983Z",
     "start_time": "2025-02-09T22:24:28.882606Z"
    }
   },
   "cell_type": "code",
   "source": [
    "!wget -c https://raw.githubusercontent.com/fawazsiddiqi/recommendation-system-with-a-Restricted-Boltzmann-Machine-using-tensorflow/master/data/ml-1m.zip -O moviedataset.zip\n",
    "!unzip -o moviedataset.zip"
   ],
   "id": "404f2b5d45d1d8e1",
   "outputs": [
    {
     "name": "stdout",
     "output_type": "stream",
     "text": [
      "--2025-02-09 23:24:28--  https://raw.githubusercontent.com/fawazsiddiqi/recommendation-system-with-a-Restricted-Boltzmann-Machine-using-tensorflow/master/data/ml-1m.zip\r\n",
      "Resolving raw.githubusercontent.com (raw.githubusercontent.com)... 185.199.111.133, 185.199.109.133, 185.199.110.133, ...\r\n",
      "Connecting to raw.githubusercontent.com (raw.githubusercontent.com)|185.199.111.133|:443... connected.\r\n",
      "HTTP request sent, awaiting response... 416 Range Not Satisfiable\r\n",
      "\r\n",
      "    The file is already fully retrieved; nothing to do.\r\n",
      "\r\n",
      "Archive:  moviedataset.zip\r\n",
      "   creating: ml-1m/\r\n",
      "  inflating: ml-1m/movies.dat        \r\n",
      "  inflating: ml-1m/ratings.dat       \r\n",
      "  inflating: ml-1m/README            \r\n",
      "  inflating: ml-1m/users.dat         \r\n"
     ]
    }
   ],
   "execution_count": 3
  },
  {
   "metadata": {},
   "cell_type": "markdown",
   "source": "Потоа го вчитуваме податочното множество при што наведуваме дека како сепаратор треба да се користи ‘::’. За параметарот header проследуваме вредност None бидејќи во фајловите во податочното множество нема заглавје (header) на колоните.\n",
   "id": "bfabfd168b924caf"
  },
  {
   "metadata": {
    "ExecuteTime": {
     "end_time": "2025-02-09T22:28:29.077611Z",
     "start_time": "2025-02-09T22:28:29.048092Z"
    }
   },
   "cell_type": "code",
   "source": [
    "movies_df = pd.read_csv('ml-1m/movies.dat', sep='::',header=None, engine='python', encoding='ISO-8859-1')\n",
    "movies_df.head()"
   ],
   "id": "66cd50df63c8a69a",
   "outputs": [
    {
     "data": {
      "text/plain": [
       "   0                                   1                             2\n",
       "0  1                    Toy Story (1995)   Animation|Children's|Comedy\n",
       "1  2                      Jumanji (1995)  Adventure|Children's|Fantasy\n",
       "2  3             Grumpier Old Men (1995)                Comedy|Romance\n",
       "3  4            Waiting to Exhale (1995)                  Comedy|Drama\n",
       "4  5  Father of the Bride Part II (1995)                        Comedy"
      ],
      "text/html": [
       "<div>\n",
       "<style scoped>\n",
       "    .dataframe tbody tr th:only-of-type {\n",
       "        vertical-align: middle;\n",
       "    }\n",
       "\n",
       "    .dataframe tbody tr th {\n",
       "        vertical-align: top;\n",
       "    }\n",
       "\n",
       "    .dataframe thead th {\n",
       "        text-align: right;\n",
       "    }\n",
       "</style>\n",
       "<table border=\"1\" class=\"dataframe\">\n",
       "  <thead>\n",
       "    <tr style=\"text-align: right;\">\n",
       "      <th></th>\n",
       "      <th>0</th>\n",
       "      <th>1</th>\n",
       "      <th>2</th>\n",
       "    </tr>\n",
       "  </thead>\n",
       "  <tbody>\n",
       "    <tr>\n",
       "      <th>0</th>\n",
       "      <td>1</td>\n",
       "      <td>Toy Story (1995)</td>\n",
       "      <td>Animation|Children's|Comedy</td>\n",
       "    </tr>\n",
       "    <tr>\n",
       "      <th>1</th>\n",
       "      <td>2</td>\n",
       "      <td>Jumanji (1995)</td>\n",
       "      <td>Adventure|Children's|Fantasy</td>\n",
       "    </tr>\n",
       "    <tr>\n",
       "      <th>2</th>\n",
       "      <td>3</td>\n",
       "      <td>Grumpier Old Men (1995)</td>\n",
       "      <td>Comedy|Romance</td>\n",
       "    </tr>\n",
       "    <tr>\n",
       "      <th>3</th>\n",
       "      <td>4</td>\n",
       "      <td>Waiting to Exhale (1995)</td>\n",
       "      <td>Comedy|Drama</td>\n",
       "    </tr>\n",
       "    <tr>\n",
       "      <th>4</th>\n",
       "      <td>5</td>\n",
       "      <td>Father of the Bride Part II (1995)</td>\n",
       "      <td>Comedy</td>\n",
       "    </tr>\n",
       "  </tbody>\n",
       "</table>\n",
       "</div>"
      ]
     },
     "execution_count": 13,
     "metadata": {},
     "output_type": "execute_result"
    }
   ],
   "execution_count": 13
  },
  {
   "metadata": {
    "ExecuteTime": {
     "end_time": "2025-02-09T22:36:06.906518Z",
     "start_time": "2025-02-09T22:36:06.887474Z"
    }
   },
   "cell_type": "code",
   "source": [
    "movies_df.columns = ['MovieID', 'Movie', 'Genre']\n",
    "movies_df.head()"
   ],
   "id": "9aadd168dcdb42a",
   "outputs": [
    {
     "data": {
      "text/plain": [
       "   MovieID                               Movie                         Genre\n",
       "0        1                    Toy Story (1995)   Animation|Children's|Comedy\n",
       "1        2                      Jumanji (1995)  Adventure|Children's|Fantasy\n",
       "2        3             Grumpier Old Men (1995)                Comedy|Romance\n",
       "3        4            Waiting to Exhale (1995)                  Comedy|Drama\n",
       "4        5  Father of the Bride Part II (1995)                        Comedy"
      ],
      "text/html": [
       "<div>\n",
       "<style scoped>\n",
       "    .dataframe tbody tr th:only-of-type {\n",
       "        vertical-align: middle;\n",
       "    }\n",
       "\n",
       "    .dataframe tbody tr th {\n",
       "        vertical-align: top;\n",
       "    }\n",
       "\n",
       "    .dataframe thead th {\n",
       "        text-align: right;\n",
       "    }\n",
       "</style>\n",
       "<table border=\"1\" class=\"dataframe\">\n",
       "  <thead>\n",
       "    <tr style=\"text-align: right;\">\n",
       "      <th></th>\n",
       "      <th>MovieID</th>\n",
       "      <th>Movie</th>\n",
       "      <th>Genre</th>\n",
       "    </tr>\n",
       "  </thead>\n",
       "  <tbody>\n",
       "    <tr>\n",
       "      <th>0</th>\n",
       "      <td>1</td>\n",
       "      <td>Toy Story (1995)</td>\n",
       "      <td>Animation|Children's|Comedy</td>\n",
       "    </tr>\n",
       "    <tr>\n",
       "      <th>1</th>\n",
       "      <td>2</td>\n",
       "      <td>Jumanji (1995)</td>\n",
       "      <td>Adventure|Children's|Fantasy</td>\n",
       "    </tr>\n",
       "    <tr>\n",
       "      <th>2</th>\n",
       "      <td>3</td>\n",
       "      <td>Grumpier Old Men (1995)</td>\n",
       "      <td>Comedy|Romance</td>\n",
       "    </tr>\n",
       "    <tr>\n",
       "      <th>3</th>\n",
       "      <td>4</td>\n",
       "      <td>Waiting to Exhale (1995)</td>\n",
       "      <td>Comedy|Drama</td>\n",
       "    </tr>\n",
       "    <tr>\n",
       "      <th>4</th>\n",
       "      <td>5</td>\n",
       "      <td>Father of the Bride Part II (1995)</td>\n",
       "      <td>Comedy</td>\n",
       "    </tr>\n",
       "  </tbody>\n",
       "</table>\n",
       "</div>"
      ]
     },
     "execution_count": 19,
     "metadata": {},
     "output_type": "execute_result"
    }
   ],
   "execution_count": 19
  },
  {
   "metadata": {
    "ExecuteTime": {
     "end_time": "2025-02-09T22:29:22.988111Z",
     "start_time": "2025-02-09T22:29:20.384852Z"
    }
   },
   "cell_type": "code",
   "source": [
    "ratings_df = pd.read_csv('ml-1m/ratings.dat', sep=\"::\", header=None, engine=\"python\")\n",
    "ratings_df.head()"
   ],
   "id": "c80d1f5bbcd3504f",
   "outputs": [
    {
     "data": {
      "text/plain": [
       "   0     1  2          3\n",
       "0  1  1193  5  978300760\n",
       "1  1   661  3  978302109\n",
       "2  1   914  3  978301968\n",
       "3  1  3408  4  978300275\n",
       "4  1  2355  5  978824291"
      ],
      "text/html": [
       "<div>\n",
       "<style scoped>\n",
       "    .dataframe tbody tr th:only-of-type {\n",
       "        vertical-align: middle;\n",
       "    }\n",
       "\n",
       "    .dataframe tbody tr th {\n",
       "        vertical-align: top;\n",
       "    }\n",
       "\n",
       "    .dataframe thead th {\n",
       "        text-align: right;\n",
       "    }\n",
       "</style>\n",
       "<table border=\"1\" class=\"dataframe\">\n",
       "  <thead>\n",
       "    <tr style=\"text-align: right;\">\n",
       "      <th></th>\n",
       "      <th>0</th>\n",
       "      <th>1</th>\n",
       "      <th>2</th>\n",
       "      <th>3</th>\n",
       "    </tr>\n",
       "  </thead>\n",
       "  <tbody>\n",
       "    <tr>\n",
       "      <th>0</th>\n",
       "      <td>1</td>\n",
       "      <td>1193</td>\n",
       "      <td>5</td>\n",
       "      <td>978300760</td>\n",
       "    </tr>\n",
       "    <tr>\n",
       "      <th>1</th>\n",
       "      <td>1</td>\n",
       "      <td>661</td>\n",
       "      <td>3</td>\n",
       "      <td>978302109</td>\n",
       "    </tr>\n",
       "    <tr>\n",
       "      <th>2</th>\n",
       "      <td>1</td>\n",
       "      <td>914</td>\n",
       "      <td>3</td>\n",
       "      <td>978301968</td>\n",
       "    </tr>\n",
       "    <tr>\n",
       "      <th>3</th>\n",
       "      <td>1</td>\n",
       "      <td>3408</td>\n",
       "      <td>4</td>\n",
       "      <td>978300275</td>\n",
       "    </tr>\n",
       "    <tr>\n",
       "      <th>4</th>\n",
       "      <td>1</td>\n",
       "      <td>2355</td>\n",
       "      <td>5</td>\n",
       "      <td>978824291</td>\n",
       "    </tr>\n",
       "  </tbody>\n",
       "</table>\n",
       "</div>"
      ]
     },
     "execution_count": 15,
     "metadata": {},
     "output_type": "execute_result"
    }
   ],
   "execution_count": 15
  },
  {
   "metadata": {
    "ExecuteTime": {
     "end_time": "2025-02-09T22:36:28.776322Z",
     "start_time": "2025-02-09T22:36:28.757238Z"
    }
   },
   "cell_type": "code",
   "source": [
    "ratings_df.columns = ['UserID', 'MovieID', 'Rating', 'Timestamp']\n",
    "ratings_df.head()"
   ],
   "id": "50635e0c48493dba",
   "outputs": [
    {
     "data": {
      "text/plain": [
       "   UserID  MovieID  Rating  Timestamp\n",
       "0       1     1193       5  978300760\n",
       "1       1      661       3  978302109\n",
       "2       1      914       3  978301968\n",
       "3       1     3408       4  978300275\n",
       "4       1     2355       5  978824291"
      ],
      "text/html": [
       "<div>\n",
       "<style scoped>\n",
       "    .dataframe tbody tr th:only-of-type {\n",
       "        vertical-align: middle;\n",
       "    }\n",
       "\n",
       "    .dataframe tbody tr th {\n",
       "        vertical-align: top;\n",
       "    }\n",
       "\n",
       "    .dataframe thead th {\n",
       "        text-align: right;\n",
       "    }\n",
       "</style>\n",
       "<table border=\"1\" class=\"dataframe\">\n",
       "  <thead>\n",
       "    <tr style=\"text-align: right;\">\n",
       "      <th></th>\n",
       "      <th>UserID</th>\n",
       "      <th>MovieID</th>\n",
       "      <th>Rating</th>\n",
       "      <th>Timestamp</th>\n",
       "    </tr>\n",
       "  </thead>\n",
       "  <tbody>\n",
       "    <tr>\n",
       "      <th>0</th>\n",
       "      <td>1</td>\n",
       "      <td>1193</td>\n",
       "      <td>5</td>\n",
       "      <td>978300760</td>\n",
       "    </tr>\n",
       "    <tr>\n",
       "      <th>1</th>\n",
       "      <td>1</td>\n",
       "      <td>661</td>\n",
       "      <td>3</td>\n",
       "      <td>978302109</td>\n",
       "    </tr>\n",
       "    <tr>\n",
       "      <th>2</th>\n",
       "      <td>1</td>\n",
       "      <td>914</td>\n",
       "      <td>3</td>\n",
       "      <td>978301968</td>\n",
       "    </tr>\n",
       "    <tr>\n",
       "      <th>3</th>\n",
       "      <td>1</td>\n",
       "      <td>3408</td>\n",
       "      <td>4</td>\n",
       "      <td>978300275</td>\n",
       "    </tr>\n",
       "    <tr>\n",
       "      <th>4</th>\n",
       "      <td>1</td>\n",
       "      <td>2355</td>\n",
       "      <td>5</td>\n",
       "      <td>978824291</td>\n",
       "    </tr>\n",
       "  </tbody>\n",
       "</table>\n",
       "</div>"
      ]
     },
     "execution_count": 20,
     "metadata": {},
     "output_type": "execute_result"
    }
   ],
   "execution_count": 20
  },
  {
   "metadata": {
    "ExecuteTime": {
     "end_time": "2025-02-09T22:30:27.974727Z",
     "start_time": "2025-02-09T22:30:27.936632Z"
    }
   },
   "cell_type": "code",
   "source": [
    "users_df = pd.read_csv('ml-1m/users.dat', header=None, sep=\"::\", engine=\"python\")\n",
    "users_df.head()"
   ],
   "id": "ab831808b50bd583",
   "outputs": [
    {
     "data": {
      "text/plain": [
       "   0  1   2   3      4\n",
       "0  1  F   1  10  48067\n",
       "1  2  M  56  16  70072\n",
       "2  3  M  25  15  55117\n",
       "3  4  M  45   7  02460\n",
       "4  5  M  25  20  55455"
      ],
      "text/html": [
       "<div>\n",
       "<style scoped>\n",
       "    .dataframe tbody tr th:only-of-type {\n",
       "        vertical-align: middle;\n",
       "    }\n",
       "\n",
       "    .dataframe tbody tr th {\n",
       "        vertical-align: top;\n",
       "    }\n",
       "\n",
       "    .dataframe thead th {\n",
       "        text-align: right;\n",
       "    }\n",
       "</style>\n",
       "<table border=\"1\" class=\"dataframe\">\n",
       "  <thead>\n",
       "    <tr style=\"text-align: right;\">\n",
       "      <th></th>\n",
       "      <th>0</th>\n",
       "      <th>1</th>\n",
       "      <th>2</th>\n",
       "      <th>3</th>\n",
       "      <th>4</th>\n",
       "    </tr>\n",
       "  </thead>\n",
       "  <tbody>\n",
       "    <tr>\n",
       "      <th>0</th>\n",
       "      <td>1</td>\n",
       "      <td>F</td>\n",
       "      <td>1</td>\n",
       "      <td>10</td>\n",
       "      <td>48067</td>\n",
       "    </tr>\n",
       "    <tr>\n",
       "      <th>1</th>\n",
       "      <td>2</td>\n",
       "      <td>M</td>\n",
       "      <td>56</td>\n",
       "      <td>16</td>\n",
       "      <td>70072</td>\n",
       "    </tr>\n",
       "    <tr>\n",
       "      <th>2</th>\n",
       "      <td>3</td>\n",
       "      <td>M</td>\n",
       "      <td>25</td>\n",
       "      <td>15</td>\n",
       "      <td>55117</td>\n",
       "    </tr>\n",
       "    <tr>\n",
       "      <th>3</th>\n",
       "      <td>4</td>\n",
       "      <td>M</td>\n",
       "      <td>45</td>\n",
       "      <td>7</td>\n",
       "      <td>02460</td>\n",
       "    </tr>\n",
       "    <tr>\n",
       "      <th>4</th>\n",
       "      <td>5</td>\n",
       "      <td>M</td>\n",
       "      <td>25</td>\n",
       "      <td>20</td>\n",
       "      <td>55455</td>\n",
       "    </tr>\n",
       "  </tbody>\n",
       "</table>\n",
       "</div>"
      ]
     },
     "execution_count": 17,
     "metadata": {},
     "output_type": "execute_result"
    }
   ],
   "execution_count": 17
  },
  {
   "metadata": {},
   "cell_type": "markdown",
   "source": "Потоа правиме нормализација на вредностите на оцените така што ги доведуваме да бидат вредности во интервалот [0,1].\n",
   "id": "5f6dc549df9cac48"
  },
  {
   "metadata": {
    "ExecuteTime": {
     "end_time": "2025-02-09T22:37:43.480543Z",
     "start_time": "2025-02-09T22:37:43.038989Z"
    }
   },
   "cell_type": "code",
   "source": [
    "user_rating_df = ratings_df.pivot(index='UserID', columns='MovieID', values='Rating') # pravime PivotTable za sekoj MovieID i gi vnesuvame ratings za toj film od 'Ratings'\n",
    "norm_user_rating_df = user_rating_df.fillna(0) / 5.0\n",
    "trX = norm_user_rating_df.values"
   ],
   "id": "c61d20a3a6d069bd",
   "outputs": [],
   "execution_count": 22
  },
  {
   "metadata": {},
   "cell_type": "markdown",
   "source": "# Поставување на параметрите и креирање на мрежата",
   "id": "2db737f96ac2920f"
  },
  {
   "metadata": {},
   "cell_type": "markdown",
   "source": "Бројот на неврони во скриениот слој го поставуваме на 20.",
   "id": "764535edbca091c3"
  },
  {
   "metadata": {},
   "cell_type": "markdown",
   "source": "A tensor is a mathematical object that generalizes scalars, vectors, and matrices to higher dimensions. In the context of machine learning and deep learning, tensors are multi-dimensional arrays used to store data. They are a fundamental data structure in libraries like TensorFlow and PyTorch",
   "id": "b360ba3b06461db9"
  },
  {
   "metadata": {},
   "cell_type": "markdown",
   "source": [
    "Initializes the parameters for a Restricted Boltzmann Machine (RBM) used in a collaborative filtering system for movie recommendations.\n",
    "\n",
    "A Boltzmann Machine is a type of stochastic recurrent neural network that can learn a probability distribution over its set of inputs. It is named after the Boltzmann distribution in statistical mechanics. There are two main types of Boltzmann Machines: the standard Boltzmann Machine and the Restricted Boltzmann Machine (RBM).  \n",
    "\n",
    "Key Concepts:\n",
    "Neurons: The network consists of neurons that are either in a visible layer (input layer) or a hidden layer.\n",
    "\n",
    "Weights: Connections between neurons have weights that are adjusted during training.\n",
    "\n",
    "Energy Function: The network has an energy function that measures the \"harmony\" of a particular state of the network.\n",
    "\n",
    "Training: The goal of training is to adjust the weights to minimize the energy of the network for the training data."
   ],
   "id": "b2a65934775fdb4d"
  },
  {
   "metadata": {
    "ExecuteTime": {
     "end_time": "2025-02-11T01:51:54.039300Z",
     "start_time": "2025-02-11T01:51:53.509398Z"
    }
   },
   "cell_type": "code",
   "source": [
    "#broj na vlezni nevroni\n",
    "visibleUnits = len(user_rating_df.columns) #The number of visible units (input neurons) is set to the number of columns in user_rating_df, which represents the number of movies.\n",
    "\n",
    "hiddenUnits = 20 #broj na skrieni nevroni\n",
    "\n",
    "#The bias for the visible units is initialized to a tensor of zeros with a length equal to the number of visible units.\n",
    "vb = tf.Variable(tf.zeros([visibleUnits]), tf.float32) #visibleUnitsBias\n",
    "\n",
    "hb = tf.Variable(tf.zeros([hiddenUnits]), tf.float32) #hiddenUnitsBias. We also store the data type\n",
    "\n",
    "w = tf.Variable(tf.zeros([visibleUnits, hiddenUnits]), tf.float32) # #The weight matrix between the visible and hidden units is initialized to a tensor of zeros with dimensions"
   ],
   "id": "487e89773f282969",
   "outputs": [],
   "execution_count": 62
  },
  {
   "metadata": {},
   "cell_type": "markdown",
   "source": "Variable is a special kind of tensor that represents a modifiable tensor. It is used to store and update parameters in a model during training. Unlike regular tensors, which are immutable, Variables can be changed using operations such as assign and assign_add.\n",
   "id": "f13aff763e918717"
  },
  {
   "metadata": {},
   "cell_type": "markdown",
   "source": [
    "Следно, ги креираме влезниот (видливиот) и скриениот слој и специфицираме која активациска функција ќе се користи.\n",
    "\n",
    "Дефинираме функција hidden_layer за креирање на скриениот слој."
   ],
   "id": "af1174fdd39dbb0e"
  },
  {
   "metadata": {},
   "cell_type": "markdown",
   "source": [
    "1.v0_state - state of the visible units, W (weight matrix between the visible and hidden units), hb - hidden bias (the bias for the hidden units)\n",
    "\n",
    "2.computes the probabilities of the hidden units being activated using the sigmoid function . tf.matmul([v0_state], W) + hb performs a matrix multiplication between the visible state and the weight matrix, then adds the hidden biases.\n",
    "\n",
    "3.#sample_h_given_X. Samples the state of the hidden units based on the computed probabilities.\n",
    "\n"
   ],
   "id": "fb6411174436edab"
  },
  {
   "metadata": {
    "ExecuteTime": {
     "end_time": "2025-02-11T01:53:44.728304Z",
     "start_time": "2025-02-11T01:53:44.714717Z"
    }
   },
   "cell_type": "code",
   "source": [
    "def hidden_layer(v0_state, W, hb): \n",
    "    \n",
    "    h0_prob = tf.nn.sigmoid(tf.matmul([v0_state], W) + hb)  \n",
    "    \n",
    "    h0_state = tf.nn.relu(tf.sign(h0_prob - tf.random.uniform(tf.shape(h0_prob)))) \n",
    "    \n",
    "    return h0_state"
   ],
   "id": "736959d0e5057da2",
   "outputs": [],
   "execution_count": 63
  },
  {
   "metadata": {},
   "cell_type": "markdown",
   "source": "Дефинираме функција reconstructed_output за реконструкција на сигналот.\n",
   "id": "dd883cd5703b7cca"
  },
  {
   "metadata": {
    "ExecuteTime": {
     "end_time": "2025-02-11T01:57:47.430657Z",
     "start_time": "2025-02-11T01:57:47.422582Z"
    }
   },
   "cell_type": "code",
   "source": [
    "def reconstructed_output(h0_state, W, vb):\n",
    "        \n",
    "    v1_prob = tf.nn.sigmoid(tf.matmul(h0_state, tf.transpose(W)) + vb) # the prob of the visible units using the sigmoid function. \n",
    "    \n",
    "    v1_state = tf.nn.relu(tf.sign(v1_prob - tf.random.uniform(tf.shape(v1_prob)))) #sample_v_given_h\n",
    "    \n",
    "    return v1_state[0]"
   ],
   "id": "7b4f7a8627959ad1",
   "outputs": [],
   "execution_count": 66
  },
  {
   "metadata": {},
   "cell_type": "markdown",
   "source": "Потоа ја креираме невронската мрежа.",
   "id": "783a25ff2c7d0c0b"
  },
  {
   "metadata": {
    "ExecuteTime": {
     "end_time": "2025-02-11T01:58:00.810013Z",
     "start_time": "2025-02-11T01:58:00.794894Z"
    }
   },
   "cell_type": "code",
   "source": [
    "v0 = tf.zeros([visibleUnits], tf.float32)\n",
    "\n",
    "h0 = hidden_layer(v0, w, hb)\n",
    "\n",
    "v1 = reconstructed_output(h0, w, vb)"
   ],
   "id": "30faf7582883c284",
   "outputs": [],
   "execution_count": 68
  },
  {
   "metadata": {},
   "cell_type": "markdown",
   "source": "Со следниве наредби може да го погледнеме бројот на неврони во секој слој.",
   "id": "211fe21296068c21"
  },
  {
   "metadata": {
    "ExecuteTime": {
     "end_time": "2025-02-11T01:59:11.478912Z",
     "start_time": "2025-02-11T01:59:11.469756Z"
    }
   },
   "cell_type": "code",
   "source": [
    "print(\"hidden state shape: \", h0.shape)\n",
    "print(\"v0 state shape:  \", v0.shape)\n",
    "print(\"v1 state shape:  \", v1.shape)"
   ],
   "id": "fd6b13e87d0e5646",
   "outputs": [
    {
     "name": "stdout",
     "output_type": "stream",
     "text": [
      "hidden state shape:  (1, 20)\n",
      "v0 state shape:   (3706,)\n",
      "v1 state shape:   (3706,)\n"
     ]
    }
   ],
   "execution_count": 69
  },
  {
   "metadata": {},
   "cell_type": "markdown",
   "source": "Дефинираме функција error за процена на грешката.",
   "id": "5d90d4a023543ee5"
  },
  {
   "metadata": {
    "ExecuteTime": {
     "end_time": "2025-02-11T01:59:25.207224Z",
     "start_time": "2025-02-11T01:59:25.189555Z"
    }
   },
   "cell_type": "code",
   "source": [
    "def error(v0_state, v1_state):\n",
    "    return tf.reduce_mean(tf.square(v0_state - v1_state))\n",
    "\n",
    "err = tf.reduce_mean(tf.square(v0 - v1))"
   ],
   "id": "8985e85afe1cf2fc",
   "outputs": [],
   "execution_count": 70
  },
  {
   "metadata": {},
   "cell_type": "markdown",
   "source": [
    "# Tренирање на мрежата\n",
    "\n",
    "Мрежата нека се тренира 5 епохи. Во примерот се користат batch-ови со големина 500 со што се добиваат 12 batch-ови."
   ],
   "id": "e7fe0f0ba77c629f"
  },
  {
   "metadata": {
    "ExecuteTime": {
     "end_time": "2025-02-11T02:01:17.764963Z",
     "start_time": "2025-02-11T02:00:53.199281Z"
    }
   },
   "cell_type": "code",
   "source": [
    "epochs = 5\n",
    "batchsize = 500\n",
    "errors = []\n",
    "weights = [] # the weights learned during training\n",
    "K=1\n",
    "alpha = 0.1 # learning rate  - kontrolira kolku mnogu tezinite ke se azuriraat na sekoj cekor\n",
    "\n",
    "train_ds = tf.data.Dataset.from_tensor_slices((np.float32(trX))).batch(batchsize) #trX - dataset, kade sto from_tensor_slices go konvertira dataset-ot vo TensorFlow dataset. batch(batchsize) go deli datasetot vo poveek batches \n",
    "\n",
    "v0_state=v0 #initial state of the visible layer \n",
    "for epoch in range(epochs): #iteriraj niz 5te epohi\n",
    "    batch_number = 0 \n",
    "    for batch_x in train_ds:\n",
    "\n",
    "        #Contrastive Divergence Algorithm\n",
    "        for i_sample in range(len(batch_x)): # Loop through each sample in batch\n",
    "            for k in range(K): # Gibbs sampling steps\n",
    "                \n",
    "                # Forward pass - visible to hidden \n",
    "                v0_state = batch_x[i_sample] #set input sample. Take a single training example\n",
    "                h0_state = hidden_layer(v0_state, w, hb) # compute hidden layer activations using w and hb\n",
    "                \n",
    "                # Reconstruction - hidden to visible \n",
    "                v1_state = reconstructed_output(h0_state, w, vb) #reconstrict visible layer\n",
    "                h1_state = hidden_layer(v1_state, w, hb) #reconstruct hidden layer\n",
    "\n",
    "                # update weights \n",
    "                delta_W = tf.matmul(tf.transpose([v0_state]), h0_state) - tf.matmul(tf.transpose([v1_state]), h1_state)\n",
    "                w = w + alpha * delta_W #update the weights using the learning rate alpha \n",
    "                \n",
    "                vb = vb + alpha * tf.reduce_mean(v0_state - v1_state, 0) #update the visible bias\n",
    "                hb = hb + alpha * tf.reduce_mean(h0_state - h1_state, 0) #update the hidden bias\n",
    "\n",
    "                v0_state = v1_state\n",
    "\n",
    "            if i_sample == len(batch_x)-1:\n",
    "                err = error(batch_x[i_sample], v1_state)\n",
    "                \n",
    "                errors.append(err)\n",
    "                weights.append(w)\n",
    "                \n",
    "        batch_number += 1"
   ],
   "id": "51297b1657b13698",
   "outputs": [],
   "execution_count": 71
  },
  {
   "metadata": {},
   "cell_type": "markdown",
   "source": [
    "# Препорачување на филмови\n",
    "\n",
    "Следно, може да се препорачуваат филмови за даден корисник (се специфицира неговото ID)."
   ],
   "id": "62b1c19c28f5a25f"
  },
  {
   "metadata": {
    "ExecuteTime": {
     "end_time": "2025-02-11T02:25:16.174096Z",
     "start_time": "2025-02-11T02:25:16.151248Z"
    }
   },
   "cell_type": "code",
   "source": "rec_user_id = 100",
   "id": "4e053e531863908e",
   "outputs": [],
   "execution_count": 73
  },
  {
   "metadata": {},
   "cell_type": "markdown",
   "source": "На влез се даваат преференците на корисникот (филмови кои ги гледал тој корисник), со што со мрежата треба да се реконструира влезот односно да се процени кои филмови би му се допаднале на корисникот врз база на неговите преференци.",
   "id": "62087e79b53712c"
  },
  {
   "metadata": {
    "ExecuteTime": {
     "end_time": "2025-02-11T02:41:24.680774Z",
     "start_time": "2025-02-11T02:41:24.627487Z"
    }
   },
   "cell_type": "code",
   "source": [
    "inputUser = trX[rec_user_id-1].reshape(1, -1) #trX e datasetot koj sto ima normalizirani user ratings , i potoa se zima ID-to (indeksirano so 0, zatoa -1) i se pravi reshape vo 2D array so 1 redica i bilo kolku koloni sto se potrebni(-1) \n",
    "\n",
    "inputUser = tf.convert_to_tensor(trX[rec_user_id-1],\"float32\") #gi konvertira podatocite na korisnikot vo TensorFlow tensor\n",
    "\n",
    "v0 = inputUser #go dodeluva tensorot na v0 koja e sostojbata na (visible layer) vo RBM"
   ],
   "id": "62b14f4e5d463d8d",
   "outputs": [],
   "execution_count": 75
  },
  {
   "metadata": {},
   "cell_type": "markdown",
   "source": "Врз база на влезниот вектор (преференците на корисникот) правиме реконструкција на влезот.\n",
   "id": "5f9c52f807591220"
  },
  {
   "metadata": {
    "ExecuteTime": {
     "end_time": "2025-02-11T02:57:29.811788Z",
     "start_time": "2025-02-11T02:57:29.302256Z"
    }
   },
   "cell_type": "code",
   "source": [
    "hh0 = tf.nn.sigmoid(tf.matmul([v0], w) + hb) #mnozam vlezot so tezinite i go dodavam BIAS-ot. Ja stavam sigmoid funkcijata za da gi dobijam verojatnostite na skrienite nevroni da bidat aktivirani\n",
    "\n",
    "vv1 = tf.nn.sigmoid(tf.matmul(hh0, tf.transpose(w)), vb) #performs matrix multiplication between the hidden layer probabilities and the transposed weight matrix\n",
    "\n",
    "rec = vv1\n",
    "\n",
    "tf.maximum(rec, 1)"
   ],
   "id": "bfb5135aa4020587",
   "outputs": [
    {
     "data": {
      "text/plain": [
       "<tf.Tensor: shape=(1, 3706), dtype=float32, numpy=array([[1., 1., 1., ..., 1., 1., 1.]], dtype=float32)>"
      ]
     },
     "execution_count": 76,
     "metadata": {},
     "output_type": "execute_result"
    }
   ],
   "execution_count": 76
  },
  {
   "metadata": {},
   "cell_type": "markdown",
   "source": [
    "Transposing is the process of swapping the rows and columns of a matrix. In other words, the element at position (i, j) in the original matrix will be at position (j, i) in the transposed matrix. This operation is commonly used in linear algebra and various machine learning algorithms.\n",
    "\n",
    "Transposing the matrix is necessary in this context to align the dimensions correctly for matrix multiplication. When reconstructing the visible layer from the hidden layer, the weight matrix w needs to be transposed to match the dimensions of the hidden layer activations"
   ],
   "id": "cc8f4bf51ddfa567"
  },
  {
   "metadata": {},
   "cell_type": "markdown",
   "source": "Реконструираниот вектор може да го погледнеме со:",
   "id": "42cac4c5c1301434"
  },
  {
   "metadata": {
    "ExecuteTime": {
     "end_time": "2025-02-11T02:57:56.969442Z",
     "start_time": "2025-02-11T02:57:56.945826Z"
    }
   },
   "cell_type": "code",
   "source": [
    "for i in vv1:\n",
    "    print(i)"
   ],
   "id": "702edf89a397edbd",
   "outputs": [
    {
     "name": "stdout",
     "output_type": "stream",
     "text": [
      "tf.Tensor([0.9070024  0.6557478  0.04407573 ... 0.00811828 0.00170686 0.00728074], shape=(3706,), dtype=float32)\n"
     ]
    }
   ],
   "execution_count": 77
  },
  {
   "metadata": {},
   "cell_type": "markdown",
   "source": "Потоа може да ги вратиме првите N (во случајов 10) највисоко рангирани филмови за тој корисник.",
   "id": "f5b4402dac6a394b"
  },
  {
   "metadata": {
    "ExecuteTime": {
     "end_time": "2025-02-11T02:58:48.927686Z",
     "start_time": "2025-02-11T02:58:48.809430Z"
    }
   },
   "cell_type": "code",
   "source": [
    "scored_movies_df_rec = movies_df[movies_df['MovieID'].isin(user_rating_df.columns)] #filters the movies to include only those that have been rated by users.\n",
    "\n",
    "scored_movies_df_rec = scored_movies_df_rec.assign(RecommendationScore = rec[0]) #adds a new column RecommendationScore to the DataFrame with the recommendation scores\n",
    "\n",
    "scored_movies_df_rec.sort_values([\"RecommendationScore\"], ascending=False).head(10)"
   ],
   "id": "e2ee24a810228c0d",
   "outputs": [
    {
     "data": {
      "text/plain": [
       "      MovieID                                                  Movie  \\\n",
       "257       260              Star Wars: Episode IV - A New Hope (1977)   \n",
       "1192     1210      Star Wars: Episode VI - Return of the Jedi (1983)   \n",
       "1178     1196  Star Wars: Episode V - The Empire Strikes Back (1980)   \n",
       "2559     2628       Star Wars: Episode I - The Phantom Menace (1999)   \n",
       "770       780                          Independence Day (ID4) (1996)   \n",
       "476       480                                   Jurassic Park (1993)   \n",
       "1271     1291              Indiana Jones and the Last Crusade (1989)   \n",
       "1023     1036                                        Die Hard (1988)   \n",
       "1196     1214                                           Alien (1979)   \n",
       "1539     1580                                    Men in Black (1997)   \n",
       "\n",
       "                                    Genre  RecommendationScore  \n",
       "257       Action|Adventure|Fantasy|Sci-Fi             0.989046  \n",
       "1192  Action|Adventure|Romance|Sci-Fi|War             0.976899  \n",
       "1178    Action|Adventure|Drama|Sci-Fi|War             0.976020  \n",
       "2559      Action|Adventure|Fantasy|Sci-Fi             0.970713  \n",
       "770                     Action|Sci-Fi|War             0.967154  \n",
       "476               Action|Adventure|Sci-Fi             0.966778  \n",
       "1271                     Action|Adventure             0.960294  \n",
       "1023                      Action|Thriller             0.960103  \n",
       "1196        Action|Horror|Sci-Fi|Thriller             0.959756  \n",
       "1539       Action|Adventure|Comedy|Sci-Fi             0.959653  "
      ],
      "text/html": [
       "<div>\n",
       "<style scoped>\n",
       "    .dataframe tbody tr th:only-of-type {\n",
       "        vertical-align: middle;\n",
       "    }\n",
       "\n",
       "    .dataframe tbody tr th {\n",
       "        vertical-align: top;\n",
       "    }\n",
       "\n",
       "    .dataframe thead th {\n",
       "        text-align: right;\n",
       "    }\n",
       "</style>\n",
       "<table border=\"1\" class=\"dataframe\">\n",
       "  <thead>\n",
       "    <tr style=\"text-align: right;\">\n",
       "      <th></th>\n",
       "      <th>MovieID</th>\n",
       "      <th>Movie</th>\n",
       "      <th>Genre</th>\n",
       "      <th>RecommendationScore</th>\n",
       "    </tr>\n",
       "  </thead>\n",
       "  <tbody>\n",
       "    <tr>\n",
       "      <th>257</th>\n",
       "      <td>260</td>\n",
       "      <td>Star Wars: Episode IV - A New Hope (1977)</td>\n",
       "      <td>Action|Adventure|Fantasy|Sci-Fi</td>\n",
       "      <td>0.989046</td>\n",
       "    </tr>\n",
       "    <tr>\n",
       "      <th>1192</th>\n",
       "      <td>1210</td>\n",
       "      <td>Star Wars: Episode VI - Return of the Jedi (1983)</td>\n",
       "      <td>Action|Adventure|Romance|Sci-Fi|War</td>\n",
       "      <td>0.976899</td>\n",
       "    </tr>\n",
       "    <tr>\n",
       "      <th>1178</th>\n",
       "      <td>1196</td>\n",
       "      <td>Star Wars: Episode V - The Empire Strikes Back (1980)</td>\n",
       "      <td>Action|Adventure|Drama|Sci-Fi|War</td>\n",
       "      <td>0.976020</td>\n",
       "    </tr>\n",
       "    <tr>\n",
       "      <th>2559</th>\n",
       "      <td>2628</td>\n",
       "      <td>Star Wars: Episode I - The Phantom Menace (1999)</td>\n",
       "      <td>Action|Adventure|Fantasy|Sci-Fi</td>\n",
       "      <td>0.970713</td>\n",
       "    </tr>\n",
       "    <tr>\n",
       "      <th>770</th>\n",
       "      <td>780</td>\n",
       "      <td>Independence Day (ID4) (1996)</td>\n",
       "      <td>Action|Sci-Fi|War</td>\n",
       "      <td>0.967154</td>\n",
       "    </tr>\n",
       "    <tr>\n",
       "      <th>476</th>\n",
       "      <td>480</td>\n",
       "      <td>Jurassic Park (1993)</td>\n",
       "      <td>Action|Adventure|Sci-Fi</td>\n",
       "      <td>0.966778</td>\n",
       "    </tr>\n",
       "    <tr>\n",
       "      <th>1271</th>\n",
       "      <td>1291</td>\n",
       "      <td>Indiana Jones and the Last Crusade (1989)</td>\n",
       "      <td>Action|Adventure</td>\n",
       "      <td>0.960294</td>\n",
       "    </tr>\n",
       "    <tr>\n",
       "      <th>1023</th>\n",
       "      <td>1036</td>\n",
       "      <td>Die Hard (1988)</td>\n",
       "      <td>Action|Thriller</td>\n",
       "      <td>0.960103</td>\n",
       "    </tr>\n",
       "    <tr>\n",
       "      <th>1196</th>\n",
       "      <td>1214</td>\n",
       "      <td>Alien (1979)</td>\n",
       "      <td>Action|Horror|Sci-Fi|Thriller</td>\n",
       "      <td>0.959756</td>\n",
       "    </tr>\n",
       "    <tr>\n",
       "      <th>1539</th>\n",
       "      <td>1580</td>\n",
       "      <td>Men in Black (1997)</td>\n",
       "      <td>Action|Adventure|Comedy|Sci-Fi</td>\n",
       "      <td>0.959653</td>\n",
       "    </tr>\n",
       "  </tbody>\n",
       "</table>\n",
       "</div>"
      ]
     },
     "execution_count": 78,
     "metadata": {},
     "output_type": "execute_result"
    }
   ],
   "execution_count": 78
  }
 ],
 "metadata": {
  "kernelspec": {
   "display_name": "Python (myenvconda2)",
   "language": "python",
   "name": "myenvconda2"
  },
  "language_info": {
   "codemirror_mode": {
    "name": "ipython",
    "version": 2
   },
   "file_extension": ".py",
   "mimetype": "text/x-python",
   "name": "python",
   "nbconvert_exporter": "python",
   "pygments_lexer": "ipython2",
   "version": "2.7.6"
  }
 },
 "nbformat": 4,
 "nbformat_minor": 5
}
