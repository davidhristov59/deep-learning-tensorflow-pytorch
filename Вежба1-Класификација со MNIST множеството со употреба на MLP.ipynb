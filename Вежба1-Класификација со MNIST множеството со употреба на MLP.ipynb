{
 "cells": [
  {
   "metadata": {},
   "cell_type": "markdown",
   "source": [
    "# Вежба за Глава 1 - Вовед (Класификација на слики со MLP)\n",
    "\n",
    "Пример за класификација на цифри со MNIST податочното множество со употреба на Multilayer perceptron\n",
    "\n",
    "Dataset-оt се состои од 60,000 28x28 grayscale слики од 10те броеви, вклучувајќи и test set од 10,000 слики"
   ],
   "id": "5ee22bd6b1cac9f1"
  },
  {
   "cell_type": "code",
   "id": "initial_id",
   "metadata": {
    "collapsed": true,
    "ExecuteTime": {
     "end_time": "2025-02-08T01:59:56.459297Z",
     "start_time": "2025-02-08T01:59:56.445217Z"
    }
   },
   "source": [
    "import tensorflow as tf\n",
    "from keras import Sequential\n",
    "from keras.layers import Dense, Flatten, Dropout\n",
    "from keras.losses import  SparseCategoricalCrossentropy"
   ],
   "outputs": [],
   "execution_count": 27
  },
  {
   "metadata": {
    "ExecuteTime": {
     "end_time": "2025-02-08T01:37:53.318860Z",
     "start_time": "2025-02-08T01:37:53.306540Z"
    }
   },
   "cell_type": "code",
   "source": "mnist = tf.keras.datasets.mnist",
   "id": "150222db03b26ceb",
   "outputs": [],
   "execution_count": 3
  },
  {
   "metadata": {
    "ExecuteTime": {
     "end_time": "2025-02-08T01:40:26.099377Z",
     "start_time": "2025-02-08T01:40:25.930955Z"
    }
   },
   "cell_type": "code",
   "source": "(x_train, y_train), (x_test, y_test)= mnist.load_data() #vaka se dadeni vo samata funkcija ",
   "id": "e75aed5484b9f84e",
   "outputs": [],
   "execution_count": 6
  },
  {
   "metadata": {},
   "cell_type": "markdown",
   "source": [
    "Скалирање на влезните податоци од тренинг и тест множеството од опсегот (0,255) во опсегот (0,1).\n",
    "Пикселите варираат од 0 - 255"
   ],
   "id": "ad5c50294db8d7cf"
  },
  {
   "metadata": {
    "ExecuteTime": {
     "end_time": "2025-02-08T01:41:36.034785Z",
     "start_time": "2025-02-08T01:41:35.898453Z"
    }
   },
   "cell_type": "code",
   "source": [
    "x_train = x_train / 255.0\n",
    "x_test = x_test / 255.0"
   ],
   "id": "2ba7c4c47bdbc41c",
   "outputs": [],
   "execution_count": 7
  },
  {
   "metadata": {
    "ExecuteTime": {
     "end_time": "2025-02-08T01:45:41.003513Z",
     "start_time": "2025-02-08T01:45:40.995406Z"
    }
   },
   "cell_type": "code",
   "source": "x_train.shape",
   "id": "62ffa3947b125259",
   "outputs": [
    {
     "data": {
      "text/plain": [
       "(60000, 28, 28)"
      ]
     },
     "execution_count": 10,
     "metadata": {},
     "output_type": "execute_result"
    }
   ],
   "execution_count": 10
  },
  {
   "metadata": {
    "ExecuteTime": {
     "end_time": "2025-02-08T01:46:24.926150Z",
     "start_time": "2025-02-08T01:46:24.919124Z"
    }
   },
   "cell_type": "code",
   "source": "x_test.shape",
   "id": "227cbf56008db538",
   "outputs": [
    {
     "data": {
      "text/plain": [
       "(10000, 28, 28)"
      ]
     },
     "execution_count": 14,
     "metadata": {},
     "output_type": "execute_result"
    }
   ],
   "execution_count": 14
  },
  {
   "metadata": {
    "ExecuteTime": {
     "end_time": "2025-02-08T01:51:39.212378Z",
     "start_time": "2025-02-08T01:51:39.088999Z"
    }
   },
   "cell_type": "code",
   "source": [
    "model = Sequential([\n",
    "    Flatten(input_shape=(x_train.shape[1], x_train.shape[2])), #The Flatten layer is used to convert the 2D array of the image (28x28 pixels) into a 1D array (784 pixels). This transformation is necessary because the subsequent Dense (fully connected) layers expect a 1D input.\n",
    "    Dense(100, activation='sigmoid'),\n",
    "    Dense(10) #10 izlezni klasi - 10 cifri\n",
    "]) "
   ],
   "id": "a6b16e0cf12a2853",
   "outputs": [],
   "execution_count": 16
  },
  {
   "metadata": {
    "ExecuteTime": {
     "end_time": "2025-02-08T01:56:03.665907Z",
     "start_time": "2025-02-08T01:56:03.597400Z"
    }
   },
   "cell_type": "code",
   "source": [
    "model.compile(optimizer='adam', loss=SparseCategoricalCrossentropy(from_logits=True), metrics=['accuracy'])\n",
    "\n",
    "# logits tensor is the raw, unnormalized output of a neural network's final layer before applying an activation function like softmax or sigmoid. It represents the scores for each class in classification tasks. These scores can be positive or negative and are not constrained to any specific range.  In the context of multi-class classification, the logits tensor is typically passed through a softmax function to convert the scores into probabilities that sum to 1. For binary classification, a sigmoid function is often used to convert logits into probabilities between 0 and 1."
   ],
   "id": "fbdbb3fb5d15679e",
   "outputs": [],
   "execution_count": 23
  },
  {
   "metadata": {
    "ExecuteTime": {
     "end_time": "2025-02-08T01:56:54.330071Z",
     "start_time": "2025-02-08T01:56:30.175239Z"
    }
   },
   "cell_type": "code",
   "source": "model.fit(x_train, y_train, epochs=10, batch_size=16)",
   "id": "4122559eabd92e6a",
   "outputs": [
    {
     "name": "stdout",
     "output_type": "stream",
     "text": [
      "Epoch 1/10\n",
      "3750/3750 [==============================] - 2s 594us/step - loss: 0.0115 - accuracy: 0.9975\n",
      "Epoch 2/10\n",
      "3750/3750 [==============================] - 2s 650us/step - loss: 0.0086 - accuracy: 0.9987\n",
      "Epoch 3/10\n",
      "3750/3750 [==============================] - 2s 592us/step - loss: 0.0074 - accuracy: 0.9988\n",
      "Epoch 4/10\n",
      "3750/3750 [==============================] - 2s 597us/step - loss: 0.0062 - accuracy: 0.9990\n",
      "Epoch 5/10\n",
      "3750/3750 [==============================] - 2s 644us/step - loss: 0.0051 - accuracy: 0.9994\n",
      "Epoch 6/10\n",
      "3750/3750 [==============================] - 2s 617us/step - loss: 0.0044 - accuracy: 0.9995\n",
      "Epoch 7/10\n",
      "3750/3750 [==============================] - 2s 621us/step - loss: 0.0038 - accuracy: 0.9995\n",
      "Epoch 8/10\n",
      "3750/3750 [==============================] - 2s 642us/step - loss: 0.0031 - accuracy: 0.9997\n",
      "Epoch 9/10\n",
      "3750/3750 [==============================] - 2s 666us/step - loss: 0.0029 - accuracy: 0.9997\n",
      "Epoch 10/10\n",
      "3750/3750 [==============================] - 3s 703us/step - loss: 0.0024 - accuracy: 0.9997\n"
     ]
    },
    {
     "data": {
      "text/plain": [
       "<keras.callbacks.History at 0x317054c70>"
      ]
     },
     "execution_count": 25,
     "metadata": {},
     "output_type": "execute_result"
    }
   ],
   "execution_count": 25
  },
  {
   "metadata": {
    "ExecuteTime": {
     "end_time": "2025-02-08T01:57:20.804880Z",
     "start_time": "2025-02-08T01:57:20.481566Z"
    }
   },
   "cell_type": "code",
   "source": "model.evaluate(x_test, y_test)",
   "id": "49d5f3e4ab679e68",
   "outputs": [
    {
     "name": "stdout",
     "output_type": "stream",
     "text": [
      "313/313 [==============================] - 0s 453us/step - loss: 0.1003 - accuracy: 0.9748\n"
     ]
    },
    {
     "data": {
      "text/plain": [
       "[0.10031050443649292, 0.9747999906539917]"
      ]
     },
     "execution_count": 26,
     "metadata": {},
     "output_type": "execute_result"
    }
   ],
   "execution_count": 26
  },
  {
   "metadata": {},
   "cell_type": "markdown",
   "source": "Модел на невронска мрежа во кој е додадена Dropout регуларизација и скриениот слој има 100 јазли со relu активациска функција.",
   "id": "c7da4cf512372362"
  },
  {
   "metadata": {
    "ExecuteTime": {
     "end_time": "2025-02-08T02:00:13.130979Z",
     "start_time": "2025-02-08T02:00:13.029756Z"
    }
   },
   "cell_type": "code",
   "source": [
    "model = Sequential([\n",
    "    Flatten(input_shape=(x_train.shape[1], x_train.shape[2])), \n",
    "    Dense(100, activation='sigmoid'),\n",
    "    Dropout(0.2),\n",
    "    Dense(10) #10 izlezni klasi - 10 cifri\n",
    "]) "
   ],
   "id": "5a9f09d7a3f05e69",
   "outputs": [],
   "execution_count": 28
  },
  {
   "metadata": {
    "ExecuteTime": {
     "end_time": "2025-02-08T02:00:27.328639Z",
     "start_time": "2025-02-08T02:00:27.299933Z"
    }
   },
   "cell_type": "code",
   "source": "model.compile(optimizer='adam', loss=SparseCategoricalCrossentropy(from_logits=True), metrics=['accuracy'])",
   "id": "f1f5b179b549b69b",
   "outputs": [],
   "execution_count": 29
  },
  {
   "metadata": {
    "ExecuteTime": {
     "end_time": "2025-02-08T02:00:52.368541Z",
     "start_time": "2025-02-08T02:00:38.365148Z"
    }
   },
   "cell_type": "code",
   "source": "model.fit(x_train, y_train, epochs=10)",
   "id": "afdbdda61f93a0cf",
   "outputs": [
    {
     "name": "stdout",
     "output_type": "stream",
     "text": [
      "Epoch 1/10\n",
      "1875/1875 [==============================] - 2s 692us/step - loss: 0.4734 - accuracy: 0.8698\n",
      "Epoch 2/10\n",
      "1875/1875 [==============================] - 1s 644us/step - loss: 0.2453 - accuracy: 0.9299\n",
      "Epoch 3/10\n",
      "1875/1875 [==============================] - 1s 668us/step - loss: 0.1899 - accuracy: 0.9453\n",
      "Epoch 4/10\n",
      "1875/1875 [==============================] - 1s 696us/step - loss: 0.1559 - accuracy: 0.9535\n",
      "Epoch 5/10\n",
      "1875/1875 [==============================] - 1s 730us/step - loss: 0.1349 - accuracy: 0.9606\n",
      "Epoch 6/10\n",
      "1875/1875 [==============================] - 1s 675us/step - loss: 0.1173 - accuracy: 0.9649\n",
      "Epoch 7/10\n",
      "1875/1875 [==============================] - 1s 713us/step - loss: 0.1064 - accuracy: 0.9682\n",
      "Epoch 8/10\n",
      "1875/1875 [==============================] - 1s 745us/step - loss: 0.0962 - accuracy: 0.9704\n",
      "Epoch 9/10\n",
      "1875/1875 [==============================] - 1s 789us/step - loss: 0.0882 - accuracy: 0.9740\n",
      "Epoch 10/10\n",
      "1875/1875 [==============================] - 2s 805us/step - loss: 0.0816 - accuracy: 0.9749\n"
     ]
    },
    {
     "data": {
      "text/plain": [
       "<keras.callbacks.History at 0x31709ff40>"
      ]
     },
     "execution_count": 30,
     "metadata": {},
     "output_type": "execute_result"
    }
   ],
   "execution_count": 30
  },
  {
   "metadata": {
    "ExecuteTime": {
     "end_time": "2025-02-08T02:01:01.880538Z",
     "start_time": "2025-02-08T02:01:01.659149Z"
    }
   },
   "cell_type": "code",
   "source": "model.evaluate(x_test, y_test)",
   "id": "f20b7d9f5898d7ac",
   "outputs": [
    {
     "name": "stdout",
     "output_type": "stream",
     "text": [
      "313/313 [==============================] - 0s 341us/step - loss: 0.0816 - accuracy: 0.9746\n"
     ]
    },
    {
     "data": {
      "text/plain": [
       "[0.0815887302160263, 0.9746000170707703]"
      ]
     },
     "execution_count": 31,
     "metadata": {},
     "output_type": "execute_result"
    }
   ],
   "execution_count": 31
  }
 ],
 "metadata": {
  "kernelspec": {
   "display_name": "Python (myenvconda2)",
   "language": "python",
   "name": "myenvconda2"
  },
  "language_info": {
   "codemirror_mode": {
    "name": "ipython",
    "version": 2
   },
   "file_extension": ".py",
   "mimetype": "text/x-python",
   "name": "python",
   "nbconvert_exporter": "python",
   "pygments_lexer": "ipython2",
   "version": "2.7.6"
  }
 },
 "nbformat": 4,
 "nbformat_minor": 5
}
